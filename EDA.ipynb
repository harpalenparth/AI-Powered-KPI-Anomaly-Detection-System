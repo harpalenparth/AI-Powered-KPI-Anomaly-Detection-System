{
 "cells": [
  {
   "cell_type": "markdown",
   "metadata": {},
   "source": [
    "# Data Loading & Preprocessing"
   ]
  },
  {
   "cell_type": "code",
   "execution_count": 92,
   "metadata": {},
   "outputs": [],
   "source": [
    "import pandas as pd\n",
    "import numpy as np"
   ]
  },
  {
   "cell_type": "code",
   "execution_count": 93,
   "metadata": {},
   "outputs": [
    {
     "data": {
      "text/html": [
       "<div>\n",
       "<style scoped>\n",
       "    .dataframe tbody tr th:only-of-type {\n",
       "        vertical-align: middle;\n",
       "    }\n",
       "\n",
       "    .dataframe tbody tr th {\n",
       "        vertical-align: top;\n",
       "    }\n",
       "\n",
       "    .dataframe thead th {\n",
       "        text-align: right;\n",
       "    }\n",
       "</style>\n",
       "<table border=\"1\" class=\"dataframe\">\n",
       "  <thead>\n",
       "    <tr style=\"text-align: right;\">\n",
       "      <th></th>\n",
       "      <th>Date</th>\n",
       "      <th>Sales</th>\n",
       "      <th>Website_Traffic</th>\n",
       "      <th>Conversion_Rate</th>\n",
       "      <th>Customer_Churn</th>\n",
       "      <th>Marketing_Spend</th>\n",
       "      <th>Profit</th>\n",
       "    </tr>\n",
       "  </thead>\n",
       "  <tbody>\n",
       "    <tr>\n",
       "      <th>0</th>\n",
       "      <td>2020-01-01</td>\n",
       "      <td>5496</td>\n",
       "      <td>11581</td>\n",
       "      <td>3.422985</td>\n",
       "      <td>2.633711</td>\n",
       "      <td>932</td>\n",
       "      <td>977</td>\n",
       "    </tr>\n",
       "    <tr>\n",
       "      <th>1</th>\n",
       "      <td>2020-01-02</td>\n",
       "      <td>4861</td>\n",
       "      <td>10298</td>\n",
       "      <td>2.835736</td>\n",
       "      <td>1.516053</td>\n",
       "      <td>721</td>\n",
       "      <td>1442</td>\n",
       "    </tr>\n",
       "    <tr>\n",
       "      <th>2</th>\n",
       "      <td>2020-01-03</td>\n",
       "      <td>5647</td>\n",
       "      <td>10838</td>\n",
       "      <td>3.366410</td>\n",
       "      <td>3.274799</td>\n",
       "      <td>1880</td>\n",
       "      <td>1689</td>\n",
       "    </tr>\n",
       "    <tr>\n",
       "      <th>3</th>\n",
       "      <td>2020-01-04</td>\n",
       "      <td>6523</td>\n",
       "      <td>13177</td>\n",
       "      <td>2.030993</td>\n",
       "      <td>0.681502</td>\n",
       "      <td>678</td>\n",
       "      <td>1522</td>\n",
       "    </tr>\n",
       "    <tr>\n",
       "      <th>4</th>\n",
       "      <td>2020-01-05</td>\n",
       "      <td>4765</td>\n",
       "      <td>15339</td>\n",
       "      <td>2.722927</td>\n",
       "      <td>1.967766</td>\n",
       "      <td>871</td>\n",
       "      <td>836</td>\n",
       "    </tr>\n",
       "  </tbody>\n",
       "</table>\n",
       "</div>"
      ],
      "text/plain": [
       "         Date  Sales  Website_Traffic  Conversion_Rate  Customer_Churn  \\\n",
       "0  2020-01-01   5496            11581         3.422985        2.633711   \n",
       "1  2020-01-02   4861            10298         2.835736        1.516053   \n",
       "2  2020-01-03   5647            10838         3.366410        3.274799   \n",
       "3  2020-01-04   6523            13177         2.030993        0.681502   \n",
       "4  2020-01-05   4765            15339         2.722927        1.967766   \n",
       "\n",
       "   Marketing_Spend  Profit  \n",
       "0              932     977  \n",
       "1              721    1442  \n",
       "2             1880    1689  \n",
       "3              678    1522  \n",
       "4              871     836  "
      ]
     },
     "execution_count": 93,
     "metadata": {},
     "output_type": "execute_result"
    }
   ],
   "source": [
    "df= pd.read_csv('kpi_anomaly_data.csv')\n",
    "df.head()"
   ]
  },
  {
   "cell_type": "code",
   "execution_count": 94,
   "metadata": {},
   "outputs": [],
   "source": [
    "# Convert 'Date' to datetime format\n",
    "df['Date'] = pd.to_datetime(df['Date'])\n",
    "\n",
    "# Set 'Date' as the index of the dataframe\n",
    "df.set_index('Date', inplace=True)"
   ]
  },
  {
   "cell_type": "code",
   "execution_count": 95,
   "metadata": {},
   "outputs": [
    {
     "name": "stdout",
     "output_type": "stream",
     "text": [
      "Sales              0\n",
      "Website_Traffic    0\n",
      "Conversion_Rate    0\n",
      "Customer_Churn     0\n",
      "Marketing_Spend    0\n",
      "Profit             0\n",
      "dtype: int64\n"
     ]
    }
   ],
   "source": [
    "print(df.isnull().sum())"
   ]
  },
  {
   "cell_type": "code",
   "execution_count": 96,
   "metadata": {},
   "outputs": [
    {
     "data": {
      "text/html": [
       "<div>\n",
       "<style scoped>\n",
       "    .dataframe tbody tr th:only-of-type {\n",
       "        vertical-align: middle;\n",
       "    }\n",
       "\n",
       "    .dataframe tbody tr th {\n",
       "        vertical-align: top;\n",
       "    }\n",
       "\n",
       "    .dataframe thead th {\n",
       "        text-align: right;\n",
       "    }\n",
       "</style>\n",
       "<table border=\"1\" class=\"dataframe\">\n",
       "  <thead>\n",
       "    <tr style=\"text-align: right;\">\n",
       "      <th></th>\n",
       "      <th>Sales</th>\n",
       "      <th>Website_Traffic</th>\n",
       "      <th>Conversion_Rate</th>\n",
       "      <th>Customer_Churn</th>\n",
       "      <th>Marketing_Spend</th>\n",
       "      <th>Profit</th>\n",
       "    </tr>\n",
       "  </thead>\n",
       "  <tbody>\n",
       "    <tr>\n",
       "      <th>count</th>\n",
       "      <td>1462.000000</td>\n",
       "      <td>1462.000000</td>\n",
       "      <td>1462.000000</td>\n",
       "      <td>1462.000000</td>\n",
       "      <td>1462.000000</td>\n",
       "      <td>1462.000000</td>\n",
       "    </tr>\n",
       "    <tr>\n",
       "      <th>mean</th>\n",
       "      <td>5027.629275</td>\n",
       "      <td>12161.092339</td>\n",
       "      <td>2.547617</td>\n",
       "      <td>2.763749</td>\n",
       "      <td>986.289330</td>\n",
       "      <td>1118.397401</td>\n",
       "    </tr>\n",
       "    <tr>\n",
       "      <th>std</th>\n",
       "      <td>1138.567552</td>\n",
       "      <td>2830.087083</td>\n",
       "      <td>0.939195</td>\n",
       "      <td>1.422121</td>\n",
       "      <td>302.771328</td>\n",
       "      <td>355.884765</td>\n",
       "    </tr>\n",
       "    <tr>\n",
       "      <th>min</th>\n",
       "      <td>1264.000000</td>\n",
       "      <td>2384.000000</td>\n",
       "      <td>0.450667</td>\n",
       "      <td>0.265957</td>\n",
       "      <td>130.000000</td>\n",
       "      <td>163.000000</td>\n",
       "    </tr>\n",
       "    <tr>\n",
       "      <th>25%</th>\n",
       "      <td>4323.750000</td>\n",
       "      <td>10685.750000</td>\n",
       "      <td>1.965759</td>\n",
       "      <td>1.580787</td>\n",
       "      <td>782.250000</td>\n",
       "      <td>876.500000</td>\n",
       "    </tr>\n",
       "    <tr>\n",
       "      <th>50%</th>\n",
       "      <td>5046.000000</td>\n",
       "      <td>11990.500000</td>\n",
       "      <td>2.475222</td>\n",
       "      <td>2.703343</td>\n",
       "      <td>982.000000</td>\n",
       "      <td>1091.000000</td>\n",
       "    </tr>\n",
       "    <tr>\n",
       "      <th>75%</th>\n",
       "      <td>5684.750000</td>\n",
       "      <td>13414.250000</td>\n",
       "      <td>3.002507</td>\n",
       "      <td>3.901448</td>\n",
       "      <td>1197.000000</td>\n",
       "      <td>1332.000000</td>\n",
       "    </tr>\n",
       "    <tr>\n",
       "      <th>max</th>\n",
       "      <td>10978.000000</td>\n",
       "      <td>27898.000000</td>\n",
       "      <td>8.641774</td>\n",
       "      <td>9.679179</td>\n",
       "      <td>1929.000000</td>\n",
       "      <td>3489.000000</td>\n",
       "    </tr>\n",
       "  </tbody>\n",
       "</table>\n",
       "</div>"
      ],
      "text/plain": [
       "              Sales  Website_Traffic  Conversion_Rate  Customer_Churn  \\\n",
       "count   1462.000000      1462.000000      1462.000000     1462.000000   \n",
       "mean    5027.629275     12161.092339         2.547617        2.763749   \n",
       "std     1138.567552      2830.087083         0.939195        1.422121   \n",
       "min     1264.000000      2384.000000         0.450667        0.265957   \n",
       "25%     4323.750000     10685.750000         1.965759        1.580787   \n",
       "50%     5046.000000     11990.500000         2.475222        2.703343   \n",
       "75%     5684.750000     13414.250000         3.002507        3.901448   \n",
       "max    10978.000000     27898.000000         8.641774        9.679179   \n",
       "\n",
       "       Marketing_Spend       Profit  \n",
       "count      1462.000000  1462.000000  \n",
       "mean        986.289330  1118.397401  \n",
       "std         302.771328   355.884765  \n",
       "min         130.000000   163.000000  \n",
       "25%         782.250000   876.500000  \n",
       "50%         982.000000  1091.000000  \n",
       "75%        1197.000000  1332.000000  \n",
       "max        1929.000000  3489.000000  "
      ]
     },
     "execution_count": 96,
     "metadata": {},
     "output_type": "execute_result"
    }
   ],
   "source": [
    "df.describe()"
   ]
  },
  {
   "cell_type": "markdown",
   "metadata": {},
   "source": [
    "# Feature Engineering"
   ]
  },
  {
   "cell_type": "markdown",
   "metadata": {},
   "source": [
    "### Extracting Date and Time Features"
   ]
  },
  {
   "cell_type": "code",
   "execution_count": 97,
   "metadata": {},
   "outputs": [
    {
     "data": {
      "text/html": [
       "<div>\n",
       "<style scoped>\n",
       "    .dataframe tbody tr th:only-of-type {\n",
       "        vertical-align: middle;\n",
       "    }\n",
       "\n",
       "    .dataframe tbody tr th {\n",
       "        vertical-align: top;\n",
       "    }\n",
       "\n",
       "    .dataframe thead th {\n",
       "        text-align: right;\n",
       "    }\n",
       "</style>\n",
       "<table border=\"1\" class=\"dataframe\">\n",
       "  <thead>\n",
       "    <tr style=\"text-align: right;\">\n",
       "      <th></th>\n",
       "      <th>year</th>\n",
       "      <th>month</th>\n",
       "      <th>day</th>\n",
       "      <th>day_of_week</th>\n",
       "      <th>is_weekend</th>\n",
       "    </tr>\n",
       "    <tr>\n",
       "      <th>Date</th>\n",
       "      <th></th>\n",
       "      <th></th>\n",
       "      <th></th>\n",
       "      <th></th>\n",
       "      <th></th>\n",
       "    </tr>\n",
       "  </thead>\n",
       "  <tbody>\n",
       "    <tr>\n",
       "      <th>2020-01-01</th>\n",
       "      <td>2020</td>\n",
       "      <td>1</td>\n",
       "      <td>1</td>\n",
       "      <td>2</td>\n",
       "      <td>0</td>\n",
       "    </tr>\n",
       "    <tr>\n",
       "      <th>2020-01-02</th>\n",
       "      <td>2020</td>\n",
       "      <td>1</td>\n",
       "      <td>2</td>\n",
       "      <td>3</td>\n",
       "      <td>0</td>\n",
       "    </tr>\n",
       "    <tr>\n",
       "      <th>2020-01-03</th>\n",
       "      <td>2020</td>\n",
       "      <td>1</td>\n",
       "      <td>3</td>\n",
       "      <td>4</td>\n",
       "      <td>0</td>\n",
       "    </tr>\n",
       "    <tr>\n",
       "      <th>2020-01-04</th>\n",
       "      <td>2020</td>\n",
       "      <td>1</td>\n",
       "      <td>4</td>\n",
       "      <td>5</td>\n",
       "      <td>1</td>\n",
       "    </tr>\n",
       "    <tr>\n",
       "      <th>2020-01-05</th>\n",
       "      <td>2020</td>\n",
       "      <td>1</td>\n",
       "      <td>5</td>\n",
       "      <td>6</td>\n",
       "      <td>1</td>\n",
       "    </tr>\n",
       "  </tbody>\n",
       "</table>\n",
       "</div>"
      ],
      "text/plain": [
       "            year  month  day  day_of_week  is_weekend\n",
       "Date                                                 \n",
       "2020-01-01  2020      1    1            2           0\n",
       "2020-01-02  2020      1    2            3           0\n",
       "2020-01-03  2020      1    3            4           0\n",
       "2020-01-04  2020      1    4            5           1\n",
       "2020-01-05  2020      1    5            6           1"
      ]
     },
     "execution_count": 97,
     "metadata": {},
     "output_type": "execute_result"
    }
   ],
   "source": [
    "df['year'] = df.index.year\n",
    "df['month'] = df.index.month\n",
    "df['day'] = df.index.day\n",
    "df['day_of_week'] = df.index.dayofweek  # Monday=0, Sunday=6\n",
    "df['is_weekend'] = df['day_of_week'].apply(lambda x: 1 if x >= 5 else 0)  # Binary feature for weekends\n",
    "df[['year', 'month', 'day', 'day_of_week', 'is_weekend']].head()\n"
   ]
  },
  {
   "cell_type": "markdown",
   "metadata": {},
   "source": [
    "### Lagging Feature"
   ]
  },
  {
   "cell_type": "code",
   "execution_count": 98,
   "metadata": {},
   "outputs": [
    {
     "name": "stdout",
     "output_type": "stream",
     "text": [
      "            Sales  sales_lag_1  sales_lag_2  sales_lag_3\n",
      "Date                                                    \n",
      "2020-01-01   5496          NaN          NaN          NaN\n",
      "2020-01-02   4861       5496.0          NaN          NaN\n",
      "2020-01-03   5647       4861.0       5496.0          NaN\n",
      "2020-01-04   6523       5647.0       4861.0       5496.0\n",
      "2020-01-05   4765       6523.0       5647.0       4861.0\n",
      "2020-01-06   4765       4765.0       6523.0       5647.0\n",
      "2020-01-07   6579       4765.0       4765.0       6523.0\n",
      "2020-01-08   5767       6579.0       4765.0       4765.0\n",
      "2020-01-09   4530       5767.0       6579.0       4765.0\n",
      "2020-01-10   5542       4530.0       5767.0       6579.0\n"
     ]
    }
   ],
   "source": [
    "df['sales_lag_1'] = df['Sales'].shift(1)\n",
    "df['sales_lag_2'] = df['Sales'].shift(2)\n",
    "df['sales_lag_3'] = df['Sales'].shift(3)\n",
    "\n",
    "print(df[['Sales', 'sales_lag_1', 'sales_lag_2', 'sales_lag_3']].head(10))"
   ]
  },
  {
   "cell_type": "markdown",
   "metadata": {},
   "source": [
    "### Rolling Feature"
   ]
  },
  {
   "cell_type": "code",
   "execution_count": 99,
   "metadata": {},
   "outputs": [
    {
     "name": "stdout",
     "output_type": "stream",
     "text": [
      "            Sales  sales_rolling_mean_7  sales_rolling_std_7\n",
      "Date                                                        \n",
      "2020-01-01   5496                   NaN                  NaN\n",
      "2020-01-02   4861                   NaN                  NaN\n",
      "2020-01-03   5647                   NaN                  NaN\n",
      "2020-01-04   6523                   NaN                  NaN\n",
      "2020-01-05   4765                   NaN                  NaN\n",
      "2020-01-06   4765                   NaN                  NaN\n",
      "2020-01-07   6579           5519.428571           787.244532\n",
      "2020-01-08   5767           5558.142857           792.545988\n",
      "2020-01-09   4530           5510.857143           848.939815\n",
      "2020-01-10   5542           5495.857143           847.058917\n",
      "2020-01-11   4536           5212.000000           775.385066\n",
      "2020-01-12   4534           5179.000000           802.037406\n",
      "2020-01-13   5241           5247.000000           780.989116\n",
      "2020-01-14   3086           4748.000000           895.577467\n",
      "2020-01-15   3275           4392.000000           918.020515\n"
     ]
    }
   ],
   "source": [
    "df['sales_rolling_mean_7'] = df['Sales'].rolling(window=7).mean()\n",
    "df['sales_rolling_std_7'] = df['Sales'].rolling(window=7).std()\n",
    "\n",
    "print(df[['Sales', 'sales_rolling_mean_7', 'sales_rolling_std_7']].head(15))"
   ]
  },
  {
   "cell_type": "markdown",
   "metadata": {},
   "source": [
    "### Handling Seasonality and Trend with decomposition"
   ]
  },
  {
   "cell_type": "code",
   "execution_count": 100,
   "metadata": {},
   "outputs": [
    {
     "name": "stdout",
     "output_type": "stream",
     "text": [
      "            Sales  sales_ema_7\n",
      "Date                          \n",
      "2020-01-01   5496  5496.000000\n",
      "2020-01-02   4861  5337.250000\n",
      "2020-01-03   5647  5414.687500\n",
      "2020-01-04   6523  5691.765625\n",
      "2020-01-05   4765  5460.074219\n",
      "2020-01-06   4765  5286.305664\n",
      "2020-01-07   6579  5609.479248\n",
      "2020-01-08   5767  5648.859436\n",
      "2020-01-09   4530  5369.144577\n",
      "2020-01-10   5542  5412.358433\n",
      "2020-01-11   4536  5193.268825\n",
      "2020-01-12   4534  5028.451618\n",
      "2020-01-13   5241  5081.588714\n",
      "2020-01-14   3086  4582.691535\n",
      "2020-01-15   3275  4255.768652\n"
     ]
    }
   ],
   "source": [
    "df['sales_ema_7'] = df['Sales'].ewm(span=7, adjust=False).mean()\n",
    "print(df[['Sales', 'sales_ema_7']].head(15))"
   ]
  },
  {
   "cell_type": "code",
   "execution_count": 101,
   "metadata": {},
   "outputs": [
    {
     "name": "stdout",
     "output_type": "stream",
     "text": [
      "            Sales  sales_diff\n",
      "Date                         \n",
      "2020-01-01   5496         NaN\n",
      "2020-01-02   4861      -635.0\n",
      "2020-01-03   5647       786.0\n",
      "2020-01-04   6523       876.0\n",
      "2020-01-05   4765     -1758.0\n",
      "2020-01-06   4765         0.0\n",
      "2020-01-07   6579      1814.0\n",
      "2020-01-08   5767      -812.0\n",
      "2020-01-09   4530     -1237.0\n",
      "2020-01-10   5542      1012.0\n"
     ]
    }
   ],
   "source": [
    "df['sales_diff'] = df['Sales'].diff()\n",
    "print(df[['Sales', 'sales_diff']].head(10))"
   ]
  },
  {
   "cell_type": "code",
   "execution_count": 102,
   "metadata": {},
   "outputs": [
    {
     "name": "stdout",
     "output_type": "stream",
     "text": [
      "            Sales  fourier_sales\n",
      "Date                            \n",
      "2020-01-01   5496   7.350394e+06\n",
      "2020-01-02   4861   5.390030e+04\n",
      "2020-01-03   5647   4.622539e+04\n",
      "2020-01-04   6523   3.970224e+04\n",
      "2020-01-05   4765   1.135955e+04\n",
      "2020-01-06   4765   2.842239e+04\n",
      "2020-01-07   6579   7.188681e+04\n",
      "2020-01-08   5767   5.351020e+04\n",
      "2020-01-09   4530   3.274061e+04\n",
      "2020-01-10   5542   8.483765e+04\n"
     ]
    }
   ],
   "source": [
    "import numpy as np\n",
    "from scipy.fft import fft\n",
    "\n",
    "fft_sales = fft(df['Sales'].values)\n",
    "df['fourier_sales'] = np.abs(fft_sales)\n",
    "\n",
    "print(df[['Sales', 'fourier_sales']].head(10))"
   ]
  },
  {
   "cell_type": "markdown",
   "metadata": {},
   "source": [
    "###  Cyclic Encoding for Time Features"
   ]
  },
  {
   "cell_type": "code",
   "execution_count": 103,
   "metadata": {},
   "outputs": [
    {
     "data": {
      "text/html": [
       "<div>\n",
       "<style scoped>\n",
       "    .dataframe tbody tr th:only-of-type {\n",
       "        vertical-align: middle;\n",
       "    }\n",
       "\n",
       "    .dataframe tbody tr th {\n",
       "        vertical-align: top;\n",
       "    }\n",
       "\n",
       "    .dataframe thead th {\n",
       "        text-align: right;\n",
       "    }\n",
       "</style>\n",
       "<table border=\"1\" class=\"dataframe\">\n",
       "  <thead>\n",
       "    <tr style=\"text-align: right;\">\n",
       "      <th></th>\n",
       "      <th>month</th>\n",
       "      <th>month_sin</th>\n",
       "      <th>month_cos</th>\n",
       "      <th>day_sin</th>\n",
       "      <th>day_cos</th>\n",
       "    </tr>\n",
       "    <tr>\n",
       "      <th>Date</th>\n",
       "      <th></th>\n",
       "      <th></th>\n",
       "      <th></th>\n",
       "      <th></th>\n",
       "      <th></th>\n",
       "    </tr>\n",
       "  </thead>\n",
       "  <tbody>\n",
       "    <tr>\n",
       "      <th>2020-01-01</th>\n",
       "      <td>1</td>\n",
       "      <td>0.5</td>\n",
       "      <td>0.866025</td>\n",
       "      <td>0.201299</td>\n",
       "      <td>0.979530</td>\n",
       "    </tr>\n",
       "    <tr>\n",
       "      <th>2020-01-02</th>\n",
       "      <td>1</td>\n",
       "      <td>0.5</td>\n",
       "      <td>0.866025</td>\n",
       "      <td>0.394356</td>\n",
       "      <td>0.918958</td>\n",
       "    </tr>\n",
       "    <tr>\n",
       "      <th>2020-01-03</th>\n",
       "      <td>1</td>\n",
       "      <td>0.5</td>\n",
       "      <td>0.866025</td>\n",
       "      <td>0.571268</td>\n",
       "      <td>0.820763</td>\n",
       "    </tr>\n",
       "    <tr>\n",
       "      <th>2020-01-04</th>\n",
       "      <td>1</td>\n",
       "      <td>0.5</td>\n",
       "      <td>0.866025</td>\n",
       "      <td>0.724793</td>\n",
       "      <td>0.688967</td>\n",
       "    </tr>\n",
       "    <tr>\n",
       "      <th>2020-01-05</th>\n",
       "      <td>1</td>\n",
       "      <td>0.5</td>\n",
       "      <td>0.866025</td>\n",
       "      <td>0.848644</td>\n",
       "      <td>0.528964</td>\n",
       "    </tr>\n",
       "  </tbody>\n",
       "</table>\n",
       "</div>"
      ],
      "text/plain": [
       "            month  month_sin  month_cos   day_sin   day_cos\n",
       "Date                                                       \n",
       "2020-01-01      1        0.5   0.866025  0.201299  0.979530\n",
       "2020-01-02      1        0.5   0.866025  0.394356  0.918958\n",
       "2020-01-03      1        0.5   0.866025  0.571268  0.820763\n",
       "2020-01-04      1        0.5   0.866025  0.724793  0.688967\n",
       "2020-01-05      1        0.5   0.866025  0.848644  0.528964"
      ]
     },
     "execution_count": 103,
     "metadata": {},
     "output_type": "execute_result"
    }
   ],
   "source": [
    "df['month_sin'] = np.sin(2 * np.pi * df['month'] / 12)\n",
    "df['month_cos'] = np.cos(2 * np.pi * df['month'] / 12)\n",
    "df['day_sin'] = np.sin(2 * np.pi * df['day'] / 31)\n",
    "df['day_cos'] = np.cos(2 * np.pi * df['day'] / 31)\n",
    "df[['month', 'month_sin', 'month_cos', 'day_sin', 'day_cos']].head()"
   ]
  },
  {
   "cell_type": "code",
   "execution_count": 104,
   "metadata": {},
   "outputs": [
    {
     "name": "stdout",
     "output_type": "stream",
     "text": [
      "            is_holiday\n",
      "Date                  \n",
      "2020-01-01           1\n",
      "2020-01-02           0\n",
      "2020-01-03           0\n",
      "2020-01-04           0\n",
      "2020-01-05           0\n"
     ]
    }
   ],
   "source": [
    "from pandas.tseries.holiday import USFederalHolidayCalendar\n",
    "\n",
    "cal = USFederalHolidayCalendar()\n",
    "holidays = cal.holidays(start=df.index.min(), end=df.index.max())\n",
    "df['is_holiday'] = df.index.isin(holidays).astype(int)\n",
    "\n",
    "print(df[['is_holiday']].head())"
   ]
  },
  {
   "cell_type": "markdown",
   "metadata": {},
   "source": [
    "# Model Training"
   ]
  },
  {
   "cell_type": "markdown",
   "metadata": {},
   "source": [
    "### Training Isolation Forest"
   ]
  },
  {
   "cell_type": "code",
   "execution_count": 106,
   "metadata": {},
   "outputs": [
    {
     "name": "stdout",
     "output_type": "stream",
     "text": [
      "Updated Isolation Forest Anomalies: 30\n"
     ]
    }
   ],
   "source": [
    "from sklearn.ensemble import IsolationForest\n",
    "from sklearn.preprocessing import StandardScaler\n",
    "\n",
    "# Selecting only numerical features\n",
    "features = ['sales_rolling_mean_7', 'sales_rolling_std_7', 'sales_lag_1', 'sales_lag_2', 'sales_lag_3',\n",
    "            'sales_ema_7', 'sales_diff', 'month_sin', 'month_cos', 'day_sin', 'day_cos', 'is_weekend', 'is_holiday']\n",
    "\n",
    "# Feature Scaling (Improves performance)\n",
    "scaler = StandardScaler()\n",
    "df_scaled = scaler.fit_transform(df[features])\n",
    "\n",
    "# Optimized Isolation Forest Model\n",
    "iso_forest = IsolationForest(\n",
    "    n_estimators=200,   # More trees for better accuracy\n",
    "    contamination=0.02,  # Reduce threshold (capture more anomalies)\n",
    "    max_samples='auto',  # Adaptive sampling\n",
    "    random_state=42\n",
    ")\n",
    "\n",
    "# Train Model\n",
    "iso_forest.fit(df_scaled)\n",
    "\n",
    "# Predict anomalies (-1 = anomaly, 1 = normal)\n",
    "df['anomaly_iforest'] = iso_forest.predict(df_scaled)\n",
    "df['anomaly_iforest'] = df['anomaly_iforest'].apply(lambda x: 1 if x == -1 else 0)\n",
    "\n",
    "# Number of anomalies detected\n",
    "print(\"Updated Isolation Forest Anomalies:\", df['anomaly_iforest'].sum())"
   ]
  },
  {
   "cell_type": "markdown",
   "metadata": {},
   "source": [
    "### Training Prophet"
   ]
  },
  {
   "cell_type": "code",
   "execution_count": 107,
   "metadata": {},
   "outputs": [
    {
     "name": "stderr",
     "output_type": "stream",
     "text": [
      "18:55:12 - cmdstanpy - INFO - Chain [1] start processing\n",
      "18:55:12 - cmdstanpy - INFO - Chain [1] done processing\n"
     ]
    },
    {
     "name": "stdout",
     "output_type": "stream",
     "text": [
      "Updated Prophet Anomalies: 30\n"
     ]
    }
   ],
   "source": [
    "from prophet import Prophet\n",
    "\n",
    "# Preparing data for Prophet\n",
    "df_prophet = df.reset_index()[['Date', 'Sales']]\n",
    "df_prophet.rename(columns={'Date': 'ds', 'Sales': 'y'}, inplace=True)\n",
    "\n",
    "# Initialize and Train Prophet Model\n",
    "prophet = Prophet(\n",
    "    seasonality_mode='multiplicative',  # Handles varying seasonal impact\n",
    "    changepoint_prior_scale=0.05,  # Adjusting sensitivity to trend changes\n",
    ")\n",
    "prophet.fit(df_prophet)\n",
    "\n",
    "# Make predictions\n",
    "future = prophet.make_future_dataframe(periods=0)  \n",
    "forecast = prophet.predict(future)\n",
    "\n",
    "# Merge actual vs predicted\n",
    "df['prophet_yhat'] = forecast['yhat'].values\n",
    "\n",
    "# Calculate residuals\n",
    "df['prophet_residual'] = abs(df['Sales'] - df['prophet_yhat'])\n",
    "\n",
    "# Adjust anomaly threshold to 98th percentile (less sensitive)\n",
    "threshold = df['prophet_residual'].quantile(0.98)\n",
    "df['anomaly_prophet'] = df['prophet_residual'].apply(lambda x: 1 if x > threshold else 0)\n",
    "\n",
    "# Number of anomalies detected\n",
    "print(\"Updated Prophet Anomalies:\", df['anomaly_prophet'].sum())"
   ]
  },
  {
   "cell_type": "markdown",
   "metadata": {},
   "source": [
    "## Evaluating & Comparing the Models"
   ]
  },
  {
   "cell_type": "code",
   "execution_count": 108,
   "metadata": {},
   "outputs": [
    {
     "name": "stdout",
     "output_type": "stream",
     "text": [
      "Final Combined Anomalies: 54\n"
     ]
    }
   ],
   "source": [
    "# Ensemble Anomaly Detection (if both models agree, count it)\n",
    "df['final_anomaly'] = df.apply(lambda row: 1 if row['anomaly_iforest'] == 1 or row['anomaly_prophet'] == 1 else 0, axis=1)\n",
    "\n",
    "# Number of final anomalies detected\n",
    "print(\"Final Combined Anomalies:\", df['final_anomaly'].sum())"
   ]
  },
  {
   "cell_type": "code",
   "execution_count": 109,
   "metadata": {},
   "outputs": [
    {
     "data": {
      "image/png": "[encoded data removed]",
      "text/plain": [
       "<Figure size 1200x600 with 1 Axes>"
      ]
     },
     "metadata": {},
     "output_type": "display_data"
    }
   ],
   "source": [
    "import matplotlib.pyplot as plt\n",
    "\n",
    "plt.figure(figsize=(12, 6))\n",
    "plt.plot(df.index, df['Sales'], label='Sales', color='blue')\n",
    "plt.scatter(df[df['final_anomaly'] == 1].index, df[df['final_anomaly'] == 1]['Sales'], color='red', label='Final Anomalies')\n",
    "plt.legend()\n",
    "plt.title(\"Final Anomaly Detection Results\")\n",
    "plt.show()"
   ]
  }
 ],
 "metadata": {
  "kernelspec": {
   "display_name": "Python (venv)",
   "language": "python",
   "name": "venv"
  },
  "language_info": {
   "codemirror_mode": {
    "name": "ipython",
    "version": 3
   },
   "file_extension": ".py",
   "mimetype": "text/x-python",
   "name": "python",
   "nbconvert_exporter": "python",
   "pygments_lexer": "ipython3",
   "version": "3.10.11"
  }
 },
 "nbformat": 4,
 "nbformat_minor": 2
}
