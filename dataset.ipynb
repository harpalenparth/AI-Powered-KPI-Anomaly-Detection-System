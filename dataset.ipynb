{
 "cells": [
  {
   "cell_type": "code",
   "execution_count": 1,
   "metadata": {},
   "outputs": [],
   "source": [
    "import pandas as pd\n",
    "import numpy as np\n",
    "from datetime import datetime, timedelta"
   ]
  },
  {
   "cell_type": "code",
   "execution_count": 2,
   "metadata": {},
   "outputs": [],
   "source": [
    "# Generate date range (3 years of daily data)\n",
    "start_date = datetime(2020, 1, 1)\n",
    "end_date = datetime(2024, 1, 1)\n",
    "date_range = pd.date_range(start=start_date, end=end_date, freq='D')\n",
    "\n",
    "# Generate synthetic KPI data\n",
    "np.random.seed(42)\n",
    "num_days = len(date_range)"
   ]
  },
  {
   "cell_type": "code",
   "execution_count": 3,
   "metadata": {},
   "outputs": [],
   "source": [
    "# Simulate realistic trends and anomalies\n",
    "sales = np.random.normal(loc=5000, scale=1000, size=num_days).astype(int)\n",
    "traffic = np.random.normal(loc=12000, scale=2000, size=num_days).astype(int)\n",
    "conversion_rate = np.random.uniform(1.5, 3.5, num_days)  # Percentage\n",
    "customer_churn = np.random.uniform(0.5, 5.0, num_days)  # Percentage\n",
    "marketing_spend = np.random.normal(loc=1000, scale=300, size=num_days).astype(int)\n",
    "profit = sales * np.random.uniform(0.15, 0.30, num_days)  # Profit as a % of sales"
   ]
  },
  {
   "cell_type": "code",
   "execution_count": 5,
   "metadata": {},
   "outputs": [],
   "source": [
    "# Apply anomalies and ensure values are cast to integers where needed\n",
    "sales[anomaly_indices] = (sales[anomaly_indices] * np.random.choice([0.5, 1.5], size=len(anomaly_indices))).astype(int)\n",
    "traffic[anomaly_indices] = (traffic[anomaly_indices] * np.random.choice([0.4, 1.8], size=len(anomaly_indices))).astype(int)\n",
    "conversion_rate[anomaly_indices] = (conversion_rate[anomaly_indices] * np.random.choice([0.3, 2.5], size=len(anomaly_indices)))\n",
    "customer_churn[anomaly_indices] = (customer_churn[anomaly_indices] * np.random.choice([2.0, 0.5], size=len(anomaly_indices)))\n",
    "profit[anomaly_indices] = (profit[anomaly_indices] * np.random.choice([0.3, 1.8], size=len(anomaly_indices))).astype(int)\n",
    "\n",
    "# Ensure profit remains as integers\n",
    "profit = profit.astype(int)"
   ]
  },
  {
   "cell_type": "code",
   "execution_count": 6,
   "metadata": {},
   "outputs": [],
   "source": [
    "# Create a DataFrame\n",
    "df = pd.DataFrame({\n",
    "    \"Date\": date_range,\n",
    "    \"Sales\": sales,\n",
    "    \"Website_Traffic\": traffic,\n",
    "    \"Conversion_Rate\": conversion_rate,\n",
    "    \"Customer_Churn\": customer_churn,\n",
    "    \"Marketing_Spend\": marketing_spend,\n",
    "    \"Profit\": profit\n",
    "})"
   ]
  },
  {
   "cell_type": "code",
   "execution_count": 8,
   "metadata": {},
   "outputs": [
    {
     "data": {
      "text/plain": [
       "'kpi_anomaly_data.csv'"
      ]
     },
     "execution_count": 8,
     "metadata": {},
     "output_type": "execute_result"
    }
   ],
   "source": [
    "# Save dataset\n",
    "file_path = \"kpi_anomaly_data.csv\"\n",
    "df.to_csv(file_path, index=False)\n",
    "file_path"
   ]
  }
 ],
 "metadata": {
  "kernelspec": {
   "display_name": "base",
   "language": "python",
   "name": "python3"
  },
  "language_info": {
   "codemirror_mode": {
    "name": "ipython",
    "version": 3
   },
   "file_extension": ".py",
   "mimetype": "text/x-python",
   "name": "python",
   "nbconvert_exporter": "python",
   "pygments_lexer": "ipython3",
   "version": "3.12.2"
  }
 },
 "nbformat": 4,
 "nbformat_minor": 2
}
